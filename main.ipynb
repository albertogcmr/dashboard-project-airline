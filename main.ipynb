{
 "cells": [
  {
   "cell_type": "code",
   "execution_count": 1,
   "metadata": {},
   "outputs": [],
   "source": [
    "import pandas as pd\n",
    "\n",
    "import os\n",
    "\n"
   ]
  },
  {
   "cell_type": "code",
   "execution_count": 2,
   "metadata": {
    "scrolled": true
   },
   "outputs": [],
   "source": [
    "EXCEL_FILENAME = 'Exported_FlightLegs_From_2017-07-24_To_2017-07-301.xlsx'\n",
    "EXCEL_PATH = 'input/'\n",
    "\n",
    "# df = pd.read_excel(EXCEL_PATH + EXCEL_FILENAME)\n",
    "df = pd.read_excel(os.path.join(EXCEL_PATH, EXCEL_FILENAME))"
   ]
  },
  {
   "cell_type": "code",
   "execution_count": 3,
   "metadata": {},
   "outputs": [
    {
     "data": {
      "text/html": [
       "<div>\n",
       "<style scoped>\n",
       "    .dataframe tbody tr th:only-of-type {\n",
       "        vertical-align: middle;\n",
       "    }\n",
       "\n",
       "    .dataframe tbody tr th {\n",
       "        vertical-align: top;\n",
       "    }\n",
       "\n",
       "    .dataframe thead th {\n",
       "        text-align: right;\n",
       "    }\n",
       "</style>\n",
       "<table border=\"1\" class=\"dataframe\">\n",
       "  <thead>\n",
       "    <tr style=\"text-align: right;\">\n",
       "      <th></th>\n",
       "      <th>Id</th>\n",
       "      <th>DATE</th>\n",
       "      <th>DEP</th>\n",
       "      <th>DEP_TIME</th>\n",
       "      <th>DEP_LOCAL_TIME</th>\n",
       "      <th>ARR</th>\n",
       "      <th>ARR_TIME</th>\n",
       "      <th>ARR_LOCAL_TIME</th>\n",
       "      <th>BaseIataCode</th>\n",
       "      <th>LOF_ID</th>\n",
       "    </tr>\n",
       "  </thead>\n",
       "  <tbody>\n",
       "    <tr>\n",
       "      <th>0</th>\n",
       "      <td>120481</td>\n",
       "      <td>2017-07-24</td>\n",
       "      <td>BCN</td>\n",
       "      <td>2017-07-24 04:00:00</td>\n",
       "      <td>2017-07-24 06:00:00</td>\n",
       "      <td>MMM</td>\n",
       "      <td>2017-07-24 08:00:00</td>\n",
       "      <td>2017-07-24 09:00:00</td>\n",
       "      <td>BCN</td>\n",
       "      <td>121</td>\n",
       "    </tr>\n",
       "    <tr>\n",
       "      <th>1</th>\n",
       "      <td>120482</td>\n",
       "      <td>2017-07-24</td>\n",
       "      <td>MMM</td>\n",
       "      <td>2017-07-24 08:25:00</td>\n",
       "      <td>2017-07-24 09:25:00</td>\n",
       "      <td>BCN</td>\n",
       "      <td>2017-07-24 12:00:00</td>\n",
       "      <td>2017-07-24 14:00:00</td>\n",
       "      <td>BCN</td>\n",
       "      <td>121</td>\n",
       "    </tr>\n",
       "    <tr>\n",
       "      <th>2</th>\n",
       "      <td>120483</td>\n",
       "      <td>2017-07-24</td>\n",
       "      <td>BCN</td>\n",
       "      <td>2017-07-24 13:00:00</td>\n",
       "      <td>2017-07-24 15:00:00</td>\n",
       "      <td>MMM</td>\n",
       "      <td>2017-07-24 17:00:00</td>\n",
       "      <td>2017-07-24 18:00:00</td>\n",
       "      <td>BCN</td>\n",
       "      <td>121</td>\n",
       "    </tr>\n",
       "    <tr>\n",
       "      <th>3</th>\n",
       "      <td>120484</td>\n",
       "      <td>2017-07-24</td>\n",
       "      <td>MMM</td>\n",
       "      <td>2017-07-24 17:25:00</td>\n",
       "      <td>2017-07-24 18:25:00</td>\n",
       "      <td>BCN</td>\n",
       "      <td>2017-07-24 21:00:00</td>\n",
       "      <td>2017-07-24 23:00:00</td>\n",
       "      <td>BCN</td>\n",
       "      <td>121</td>\n",
       "    </tr>\n",
       "    <tr>\n",
       "      <th>4</th>\n",
       "      <td>181725</td>\n",
       "      <td>2017-07-24</td>\n",
       "      <td>BCN</td>\n",
       "      <td>2017-07-24 04:05:00</td>\n",
       "      <td>2017-07-24 06:05:00</td>\n",
       "      <td>FCO</td>\n",
       "      <td>2017-07-24 06:00:00</td>\n",
       "      <td>2017-07-24 08:00:00</td>\n",
       "      <td>BCN</td>\n",
       "      <td>338</td>\n",
       "    </tr>\n",
       "  </tbody>\n",
       "</table>\n",
       "</div>"
      ],
      "text/plain": [
       "       Id       DATE  DEP            DEP_TIME      DEP_LOCAL_TIME  ARR  \\\n",
       "0  120481 2017-07-24  BCN 2017-07-24 04:00:00 2017-07-24 06:00:00  MMM   \n",
       "1  120482 2017-07-24  MMM 2017-07-24 08:25:00 2017-07-24 09:25:00  BCN   \n",
       "2  120483 2017-07-24  BCN 2017-07-24 13:00:00 2017-07-24 15:00:00  MMM   \n",
       "3  120484 2017-07-24  MMM 2017-07-24 17:25:00 2017-07-24 18:25:00  BCN   \n",
       "4  181725 2017-07-24  BCN 2017-07-24 04:05:00 2017-07-24 06:05:00  FCO   \n",
       "\n",
       "             ARR_TIME      ARR_LOCAL_TIME BaseIataCode  LOF_ID  \n",
       "0 2017-07-24 08:00:00 2017-07-24 09:00:00          BCN     121  \n",
       "1 2017-07-24 12:00:00 2017-07-24 14:00:00          BCN     121  \n",
       "2 2017-07-24 17:00:00 2017-07-24 18:00:00          BCN     121  \n",
       "3 2017-07-24 21:00:00 2017-07-24 23:00:00          BCN     121  \n",
       "4 2017-07-24 06:00:00 2017-07-24 08:00:00          BCN     338  "
      ]
     },
     "execution_count": 3,
     "metadata": {},
     "output_type": "execute_result"
    }
   ],
   "source": [
    "df.head()"
   ]
  },
  {
   "cell_type": "code",
   "execution_count": 4,
   "metadata": {},
   "outputs": [
    {
     "data": {
      "text/html": [
       "<div>\n",
       "<style scoped>\n",
       "    .dataframe tbody tr th:only-of-type {\n",
       "        vertical-align: middle;\n",
       "    }\n",
       "\n",
       "    .dataframe tbody tr th {\n",
       "        vertical-align: top;\n",
       "    }\n",
       "\n",
       "    .dataframe thead th {\n",
       "        text-align: right;\n",
       "    }\n",
       "</style>\n",
       "<table border=\"1\" class=\"dataframe\">\n",
       "  <thead>\n",
       "    <tr style=\"text-align: right;\">\n",
       "      <th></th>\n",
       "      <th>Id</th>\n",
       "      <th>LOF_ID</th>\n",
       "    </tr>\n",
       "  </thead>\n",
       "  <tbody>\n",
       "    <tr>\n",
       "      <th>count</th>\n",
       "      <td>15898.000000</td>\n",
       "      <td>15898.000000</td>\n",
       "    </tr>\n",
       "    <tr>\n",
       "      <th>mean</th>\n",
       "      <td>239869.193672</td>\n",
       "      <td>43309.063027</td>\n",
       "    </tr>\n",
       "    <tr>\n",
       "      <th>std</th>\n",
       "      <td>139692.129798</td>\n",
       "      <td>25619.802170</td>\n",
       "    </tr>\n",
       "    <tr>\n",
       "      <th>min</th>\n",
       "      <td>1607.000000</td>\n",
       "      <td>121.000000</td>\n",
       "    </tr>\n",
       "    <tr>\n",
       "      <th>25%</th>\n",
       "      <td>115752.250000</td>\n",
       "      <td>20554.000000</td>\n",
       "    </tr>\n",
       "    <tr>\n",
       "      <th>50%</th>\n",
       "      <td>240293.500000</td>\n",
       "      <td>42945.000000</td>\n",
       "    </tr>\n",
       "    <tr>\n",
       "      <th>75%</th>\n",
       "      <td>361461.750000</td>\n",
       "      <td>65827.000000</td>\n",
       "    </tr>\n",
       "    <tr>\n",
       "      <th>max</th>\n",
       "      <td>480524.000000</td>\n",
       "      <td>87935.000000</td>\n",
       "    </tr>\n",
       "  </tbody>\n",
       "</table>\n",
       "</div>"
      ],
      "text/plain": [
       "                  Id        LOF_ID\n",
       "count   15898.000000  15898.000000\n",
       "mean   239869.193672  43309.063027\n",
       "std    139692.129798  25619.802170\n",
       "min      1607.000000    121.000000\n",
       "25%    115752.250000  20554.000000\n",
       "50%    240293.500000  42945.000000\n",
       "75%    361461.750000  65827.000000\n",
       "max    480524.000000  87935.000000"
      ]
     },
     "execution_count": 4,
     "metadata": {},
     "output_type": "execute_result"
    }
   ],
   "source": [
    "df.describe()"
   ]
  },
  {
   "cell_type": "code",
   "execution_count": 5,
   "metadata": {},
   "outputs": [
    {
     "name": "stdout",
     "output_type": "stream",
     "text": [
      "<class 'pandas.core.frame.DataFrame'>\n",
      "RangeIndex: 15898 entries, 0 to 15897\n",
      "Data columns (total 10 columns):\n",
      "Id                15898 non-null int64\n",
      "DATE              15898 non-null datetime64[ns]\n",
      "DEP               15898 non-null object\n",
      "DEP_TIME          15898 non-null datetime64[ns]\n",
      "DEP_LOCAL_TIME    15898 non-null datetime64[ns]\n",
      "ARR               15898 non-null object\n",
      "ARR_TIME          15898 non-null datetime64[ns]\n",
      "ARR_LOCAL_TIME    15898 non-null datetime64[ns]\n",
      "BaseIataCode      15898 non-null object\n",
      "LOF_ID            15898 non-null int64\n",
      "dtypes: datetime64[ns](5), int64(2), object(3)\n",
      "memory usage: 1.2+ MB\n"
     ]
    }
   ],
   "source": [
    "df.info()"
   ]
  },
  {
   "cell_type": "code",
   "execution_count": null,
   "metadata": {},
   "outputs": [],
   "source": []
  }
 ],
 "metadata": {
  "kernelspec": {
   "display_name": "Python 3",
   "language": "python",
   "name": "python3"
  },
  "language_info": {
   "codemirror_mode": {
    "name": "ipython",
    "version": 3
   },
   "file_extension": ".py",
   "mimetype": "text/x-python",
   "name": "python",
   "nbconvert_exporter": "python",
   "pygments_lexer": "ipython3",
   "version": "3.6.8"
  }
 },
 "nbformat": 4,
 "nbformat_minor": 2
}
